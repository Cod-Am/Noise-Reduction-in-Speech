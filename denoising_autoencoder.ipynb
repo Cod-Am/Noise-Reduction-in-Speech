{
 "cells": [
  {
   "cell_type": "code",
   "execution_count": 15,
   "id": "f29e525d",
   "metadata": {},
   "outputs": [],
   "source": [
    "import zipfile2\n",
    "from zipfile2 import ZipFile\n",
    "import os\n",
    "import string\n",
    "import json\n",
    "from IPython.display import Audio\n",
    "\n",
    "import pandas as pd\n",
    "import numpy as np\n",
    "import matplotlib.pyplot as plt\n",
    "\n",
    "import librosa\n",
    "\n",
    "import sklearn\n",
    "\n",
    "import tensorflow as tf\n",
    "import keras\n",
    "\n",
    "import transformers\n",
    "from transformers import pipeline"
   ]
  },
  {
   "cell_type": "code",
   "execution_count": null,
   "id": "9e1d1c41",
   "metadata": {},
   "outputs": [],
   "source": [
    "# extracting the files\n",
    "# base_path = '../dataset/NOIZEUS_dataset/'\n",
    "# for file in os.listdir(base_path):\n",
    "#     if file.endswith('.zip'):\n",
    "#         path = f'{base_path}/{file}'\n",
    "#         filename = file.split('.')[0]\n",
    "#         if not os.path.exists(f'{base_path}/{filename}'):\n",
    "#             os.makedirs(f'{base_path}/{filename}')\n",
    "#         with ZipFile(path , 'r') as zip:\n",
    "#             zip.extractall(path = f'{base_path}/{filename}')\n",
    "#         if os.path.exists(path):\n",
    "#             os.remove(path)"
   ]
  },
  {
   "cell_type": "code",
   "execution_count": 13,
   "id": "56c8ee30",
   "metadata": {},
   "outputs": [],
   "source": [
    "# preparing the aurora-4 dataset\n",
    "base_path = '../dataset/NOIZEUS_dataset/'\n",
    "audio_file_paths = []\n",
    "db_array = ['0dB' , '5dB' , '10dB' , '15dB']\n",
    "place_array = ['airport' , 'babble' , 'car' , 'exhibition' , 'restaurant' , 'station' , 'street' , 'train']\n",
    "for place in place_array:\n",
    "    for dB in db_array:\n",
    "        path = f'{base_path}/{place}_{dB}/{dB}'\n",
    "        audio_file_paths.append(path)"
   ]
  },
  {
   "cell_type": "code",
   "execution_count": 14,
   "id": "eed25615",
   "metadata": {},
   "outputs": [],
   "source": [
    "noizeus_dataset = pd.DataFrame({'path' : audio_file_paths})\n",
    "noizeus_dataset.to_csv('datasets/noizeus_dataset_audio_file_paths.csv')"
   ]
  },
  {
   "cell_type": "code",
   "execution_count": null,
   "id": "ded94702",
   "metadata": {},
   "outputs": [],
   "source": [
    "# making a dataset of spectrograms of files"
   ]
  },
  {
   "cell_type": "code",
   "execution_count": null,
   "id": "88ea21a5",
   "metadata": {},
   "outputs": [],
   "source": [
    "# defining a neural network\n",
    "encoder = tf.keras.Sequential(\n",
    "    [\n",
    "        tf.keras.layers.Dense(100 , activation = 'relu')\n",
    "        tf.keras.layers.Dense(30 , activation = 'relu')\n",
    "    ]\n",
    ")\n"
   ]
  }
 ],
 "metadata": {
  "kernelspec": {
   "display_name": "audio_processing",
   "language": "python",
   "name": "python3"
  },
  "language_info": {
   "codemirror_mode": {
    "name": "ipython",
    "version": 3
   },
   "file_extension": ".py",
   "mimetype": "text/x-python",
   "name": "python",
   "nbconvert_exporter": "python",
   "pygments_lexer": "ipython3",
   "version": "3.10.13"
  }
 },
 "nbformat": 4,
 "nbformat_minor": 5
}
