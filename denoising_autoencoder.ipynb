{
 "cells": [
  {
   "cell_type": "code",
   "execution_count": null,
   "id": "f29e525d",
   "metadata": {},
   "outputs": [],
   "source": [
    "import zipfile2\n",
    "from zipfile2 import ZipFile\n",
    "import os\n",
    "import string\n",
    "import json\n",
    "from IPython.display import Audio\n",
    "\n",
    "import pandas as pd\n",
    "import numpy as np\n",
    "import matplotlib.pyplot as plt\n",
    "\n",
    "import librosa\n",
    "\n",
    "import sklearn\n",
    "\n",
    "import tensorflow as tf\n",
    "import keras\n"
   ]
  },
  {
   "cell_type": "code",
   "execution_count": null,
   "id": "9e1d1c41",
   "metadata": {},
   "outputs": [],
   "source": [
    "# extracting the files\n",
    "# base_path = '../dataset/NOIZEUS_dataset/'\n",
    "# for file in os.listdir(base_path):\n",
    "#     if file.endswith('.zip'):\n",
    "#         path = f'{base_path}/{file}'\n",
    "#         filename = file.split('.')[0]\n",
    "#         if not os.path.exists(f'{base_path}/{filename}'):\n",
    "#             os.makedirs(f'{base_path}/{filename}')\n",
    "#         with ZipFile(path , 'r') as zip:\n",
    "#             zip.extractall(path = f'{base_path}/{filename}')\n",
    "#         if os.path.exists(path):\n",
    "#             os.remove(path)"
   ]
  },
  {
   "cell_type": "code",
   "execution_count": null,
   "id": "56c8ee30",
   "metadata": {},
   "outputs": [],
   "source": [
    "# preparing the aurora-4 dataset\n",
    "base_path = '../dataset/NOIZEUS_dataset/'\n",
    "audio_file_paths = []\n",
    "db_array = ['0dB' , '5dB' , '10dB' , '15dB']\n",
    "place_array = ['airport' , 'babble' , 'car' , 'exhibition' , 'restaurant' , 'station' , 'street' , 'train']\n",
    "for place in place_array:\n",
    "    for dB in db_array:\n",
    "        path = f'{base_path}/{place}_{dB}/{dB}'\n",
    "        audio_file_paths.append(path)"
   ]
  },
  {
   "cell_type": "code",
   "execution_count": null,
   "id": "eed25615",
   "metadata": {},
   "outputs": [],
   "source": [
    "noizeus_dataset = pd.DataFrame({'path' : audio_file_paths})\n",
    "noizeus_dataset.to_csv('datasets/noizeus_dataset_audio_file_paths.csv')"
   ]
  },
  {
   "cell_type": "code",
   "execution_count": 10,
   "id": "ded94702",
   "metadata": {},
   "outputs": [],
   "source": [
    "# making a dataset of spectrograms of files\n",
    "for folder_path in noizeus_dataset['path']:\n",
    "    for file_path in os.listdir(folder_path):\n",
    "        file_path = f'{folder_path}/{file_path}'\n",
    "        y, sr = librosa.load(file_path,sr=22050)\n",
    "        mfccs = librosa.feature.mfcc(y=y, sr=sr, n_mfcc=60)\n",
    "        plt.figure(figsize=(10, 4))\n",
    "        librosa.display.specshow(mfccs, sr=sr, x_axis='time')\n",
    "        plt.colorbar()\n",
    "        plt.title(\"MFCC\")\n",
    "        plt.show()\n",
    "        plt.close()"
   ]
  },
  {
   "cell_type": "code",
   "execution_count": 45,
   "id": "0849fbda",
   "metadata": {},
   "outputs": [
    {
     "name": "stdout",
     "output_type": "stream",
     "text": [
      "[WinError 3] The system cannot find the path specified: '../dataset/NOIZEUS_dataset//train_15dB/15dB'\n"
     ]
    }
   ],
   "source": [
    "filenames = []\n",
    "mel_spectograms = []\n",
    "try:\n",
    "    for folder_path in noizeus_dataset['path']:\n",
    "        for filename in os.listdir(folder_path):\n",
    "            file_path = f'{folder_path}/{filename}'\n",
    "            filenames.append(filename)\n",
    "            y, sr = librosa.load(file_path,sr=22050)\n",
    "            mel_spec = librosa.feature.melspectrogram(y=y, sr=sr, n_fft=2048, hop_length=512, n_mels=128)\n",
    "            mel_spectograms.append(mel_spec)\n",
    "            # Convert to decibels for better visualization\n",
    "            mel_spec_db = librosa.power_to_db(mel_spec, ref=np.max)\n",
    "\n",
    "            # Plot the Mel Spectrogram\n",
    "            plt.figure(figsize=(10, 4))\n",
    "            librosa.display.specshow(mel_spec_db, sr=sr, hop_length=512, x_axis='time', y_axis='mel', cmap='viridis')\n",
    "            plt.colorbar(format='%+2.0f dB')\n",
    "            plt.title('Mel Spectrogram')\n",
    "            plt.tight_layout()\n",
    "            filename = filename.split('.')[0]\n",
    "            plt.savefig(f'datasets/mel_spectogram_noizeus_dataset/{filename}.png' , bbox_inches = 'tight')\n",
    "            # plt.show()\n",
    "            plt.close()\n",
    "except Exception as e:\n",
    "    print(e)"
   ]
  },
  {
   "cell_type": "code",
   "execution_count": 46,
   "id": "6e447a62",
   "metadata": {},
   "outputs": [],
   "source": [
    "noisy_audiofiles_spectogram_dataset = pd.DataFrame({'noisy_file' : filenames , 'mel_spectorgrams' : mel_spectograms})\n",
    "noisy_audiofiles_spectogram_dataset.to_csv('datasets/noisy_audiofiles_melspectograms_noizeus.csv',index=False)"
   ]
  },
  {
   "cell_type": "code",
   "execution_count": 44,
   "id": "2cf10f65",
   "metadata": {},
   "outputs": [],
   "source": [
    "filenames = []\n",
    "mel_spectograms = []\n",
    "clean_audio_path = '../dataset/NOIZEUS_dataset/clean/clean'\n",
    "for file in os.listdir(clean_audio_path):\n",
    "    filenames.append(file)\n",
    "    path = f'{clean_audio_path}/{file}'\n",
    "    y , sr = librosa.load(path , sr=22050)\n",
    "    mel_spec = librosa.feature.melspectrogram(y = y , n_fft=2048 , hop_length = 512 , n_mels = 128)\n",
    "    mel_spectograms.append(mel_spec)\n",
    "\n",
    "    # plotting spectrum\n",
    "    mel_spec_db = librosa.power_to_db(mel_spec , ref=np.max)\n",
    "    plt.figure(figsize=(10,4))\n",
    "    librosa.display.specshow(mel_spec_db , sr = 22050, hop_length=512,n_fft=2048,x_axis='time' , y_axis='mel')\n",
    "    plt.colorbar(format = '%+2.0f dB')\n",
    "    plt.title('Mel Spectogram')\n",
    "    plt.tight_layout()\n",
    "    filename = file.split('.')[0]\n",
    "    plt.savefig(f'datasets/mel_spectogram_noizeus_dataset/{filename}.png' , bbox_inches = 'tight')\n",
    "    plt.close()"
   ]
  },
  {
   "cell_type": "code",
   "execution_count": 47,
   "id": "3a99f9c1",
   "metadata": {},
   "outputs": [],
   "source": [
    "clean_audiofiles_spectogram_dataset = pd.DataFrame({'noisy_file' : filenames , 'mel_spectorgrams' : mel_spectograms})\n",
    "clean_audiofiles_spectogram_dataset.to_csv('datasets/clean_audiofiles_melspectograms_noizeus.csv',index=False)"
   ]
  },
  {
   "cell_type": "code",
   "execution_count": null,
   "id": "88ea21a5",
   "metadata": {},
   "outputs": [],
   "source": [
    "# defining a neural network\n",
    "encoder = tf.keras.Sequential(\n",
    "    [\n",
    "        tf.keras.layers.Dense(100 , activation = 'relu'),\n",
    "        tf.keras.layers.Dense(30 , activation = 'relu')\n",
    "    ]\n",
    ")\n"
   ]
  }
 ],
 "metadata": {
  "kernelspec": {
   "display_name": "audio_processing",
   "language": "python",
   "name": "python3"
  },
  "language_info": {
   "codemirror_mode": {
    "name": "ipython",
    "version": 3
   },
   "file_extension": ".py",
   "mimetype": "text/x-python",
   "name": "python",
   "nbconvert_exporter": "python",
   "pygments_lexer": "ipython3",
   "version": "3.10.13"
  }
 },
 "nbformat": 4,
 "nbformat_minor": 5
}
