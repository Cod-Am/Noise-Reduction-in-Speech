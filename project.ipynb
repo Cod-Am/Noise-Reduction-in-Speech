{
 "cells": [
  {
   "cell_type": "code",
   "execution_count": 1,
   "id": "04e672a8",
   "metadata": {},
   "outputs": [],
   "source": [
    "import os\n",
    "\n",
    "import pandas as pd\n",
    "import numpy as np\n",
    "import matplotlib.pyplot as plt\n",
    "\n",
    "import librosa\n",
    "\n",
    "import sklearn\n",
    "\n",
    "import tensorflow\n"
   ]
  },
  {
   "cell_type": "code",
   "execution_count": null,
   "id": "53c0a7e1",
   "metadata": {},
   "outputs": [],
   "source": [
    "train_path = '../FSD50K.dev_audio'\n",
    "test_path = '../FSD50K.eval_audio'\n",
    "ground_truth_path = '../FSD50K.ground_path'"
   ]
  }
 ],
 "metadata": {
  "kernelspec": {
   "display_name": "audio_processing",
   "language": "python",
   "name": "python3"
  },
  "language_info": {
   "codemirror_mode": {
    "name": "ipython",
    "version": 3
   },
   "file_extension": ".py",
   "mimetype": "text/x-python",
   "name": "python",
   "nbconvert_exporter": "python",
   "pygments_lexer": "ipython3",
   "version": "3.10.13"
  }
 },
 "nbformat": 4,
 "nbformat_minor": 5
}
